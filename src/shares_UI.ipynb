{
 "cells": [
  {
   "cell_type": "code",
   "execution_count": 27,
   "metadata": {},
   "outputs": [
    {
     "data": {
      "text/html": [
       "<script>\n",
       "code_show=true; \n",
       "function code_toggle() {\n",
       " if (code_show){\n",
       " $('div.input').hide();\n",
       " } else {\n",
       " $('div.input').show();\n",
       " }\n",
       " code_show = !code_show\n",
       "} \n",
       "$( document ).ready(code_toggle);\n",
       "</script>\n",
       "<form action=\"javascript:code_toggle()\">\n",
       "<input type=\"submit\" value=\"Click here to view the raw code\"></form>"
      ],
      "text/plain": [
       "<IPython.core.display.HTML object>"
      ]
     },
     "execution_count": 27,
     "metadata": {},
     "output_type": "execute_result"
    }
   ],
   "source": [
    "from IPython.display import HTML\n",
    "\n",
    "HTML('''<script>\n",
    "code_show=true; \n",
    "function code_toggle() {\n",
    " if (code_show){\n",
    " $('div.input').hide();\n",
    " } else {\n",
    " $('div.input').show();\n",
    " }\n",
    " code_show = !code_show\n",
    "} \n",
    "$( document ).ready(code_toggle);\n",
    "</script>\n",
    "<form action=\"javascript:code_toggle()\">\n",
    "<input type=\"submit\" value=\"Click here to view the raw code\"></form>''')"
   ]
  },
  {
   "cell_type": "markdown",
   "metadata": {},
   "source": [
    "# Shares Analysis UI\n",
    "Select the stock you want to analyze"
   ]
  },
  {
   "cell_type": "code",
   "execution_count": 28,
   "metadata": {},
   "outputs": [],
   "source": [
    "import api_requests as ar\n",
    "import chart_studio.plotly as py\n",
    "import plotly.graph_objs as go\n",
    "import cufflinks as cf\n",
    "import pandas as pd\n",
    "import yfinance as yf\n",
    "import holding_util as hu\n",
    "import numpy as np\n",
    "\n",
    "from ipywidgets import widgets, interact, interact_manual, HTML, HBox, VBox, Layout\n",
    "from IPython.display import clear_output, display\n",
    "from traitlets import traitlets\n",
    "\n",
    "#File information\n",
    "path=r\"C:\\Users\\Marco\\Documents\"\n",
    "file_name=\"investment_shares.csv\"\n",
    "df = ar.load_csv(path, file_name)\n",
    "holdings_list = ar.create_shares_list(df)"
   ]
  },
  {
   "cell_type": "code",
   "execution_count": 29,
   "metadata": {},
   "outputs": [
    {
     "data": {
      "application/vnd.jupyter.widget-view+json": {
       "model_id": "3c248a73c94749f2b87f48a134f7f627",
       "version_major": 2,
       "version_minor": 0
      },
      "text/plain": [
       "Dropdown(description='Holdings:', options=('ATVI', 'WM', 'NOBL', 'VOO', 'MU', 'BAM', 'QQQ', 'YUM', 'HPQ', 'LAZ…"
      ]
     },
     "metadata": {},
     "output_type": "display_data"
    },
    {
     "data": {
      "text/html": [
       "<div>\n",
       "<style scoped>\n",
       "    .dataframe tbody tr th:only-of-type {\n",
       "        vertical-align: middle;\n",
       "    }\n",
       "\n",
       "    .dataframe tbody tr th {\n",
       "        vertical-align: top;\n",
       "    }\n",
       "\n",
       "    .dataframe thead th {\n",
       "        text-align: right;\n",
       "    }\n",
       "</style>\n",
       "<table border=\"1\" class=\"dataframe\">\n",
       "  <thead>\n",
       "    <tr style=\"text-align: right;\">\n",
       "      <th></th>\n",
       "      <th>Details</th>\n",
       "    </tr>\n",
       "  </thead>\n",
       "  <tbody>\n",
       "    <tr>\n",
       "      <th>Name</th>\n",
       "      <td>Activision Blizzard, Inc</td>\n",
       "    </tr>\n",
       "    <tr>\n",
       "      <th>Sector</th>\n",
       "      <td>Communication Services</td>\n",
       "    </tr>\n",
       "    <tr>\n",
       "      <th>Industry</th>\n",
       "      <td>Electronic Gaming &amp; Multimedia</td>\n",
       "    </tr>\n",
       "    <tr>\n",
       "      <th>Payout Ratio</th>\n",
       "      <td>0.1897</td>\n",
       "    </tr>\n",
       "    <tr>\n",
       "      <th>Div Yield</th>\n",
       "      <td>0.007</td>\n",
       "    </tr>\n",
       "    <tr>\n",
       "      <th>Market</th>\n",
       "      <td>NMS</td>\n",
       "    </tr>\n",
       "    <tr>\n",
       "      <th>P/E</th>\n",
       "      <td>4.54</td>\n",
       "    </tr>\n",
       "    <tr>\n",
       "      <th>Price</th>\n",
       "      <td>56.29</td>\n",
       "    </tr>\n",
       "  </tbody>\n",
       "</table>\n",
       "</div>"
      ],
      "text/plain": [
       "                                     Details\n",
       "Name                Activision Blizzard, Inc\n",
       "Sector                Communication Services\n",
       "Industry      Electronic Gaming & Multimedia\n",
       "Payout Ratio                          0.1897\n",
       "Div Yield                              0.007\n",
       "Market                                   NMS\n",
       "P/E                                     4.54\n",
       "Price                                  56.29"
      ]
     },
     "metadata": {},
     "output_type": "display_data"
    },
    {
     "data": {
      "text/html": [
       "\n",
       "        <iframe\n",
       "            width=\"100%\"\n",
       "            height=\"525px\"\n",
       "            src=\"https://plot.ly/~lvlarco/245.embed\"\n",
       "            frameborder=\"0\"\n",
       "            allowfullscreen\n",
       "        ></iframe>\n",
       "        "
      ],
      "text/plain": [
       "<IPython.lib.display.IFrame at 0x2601d702b20>"
      ]
     },
     "metadata": {},
     "output_type": "display_data"
    }
   ],
   "source": [
    "def on_ticker_change(change):\n",
    "    if ticker_dp.value:\n",
    "        clear_output()\n",
    "        display(ticker_dp)\n",
    "        try:\n",
    "            tick = yf.Ticker(ticker_dp.value)\n",
    "            info = tick.info\n",
    "            info_dict = {}\n",
    "            value_list = ['shortName', 'sector']\n",
    "            info_dict = {\"Name\": info.get('shortName'),\n",
    "                         \"Sector\": info.get('sector'),\n",
    "                         \"Industry\": info.get('industry'),\n",
    "                         \"Payout Ratio\": info.get('payoutRatio'),\n",
    "                         \"Div Yield\": info.get('dividendYield'),\n",
    "                         \"Market\": info.get('exchange'),\n",
    "                         \"P/E\": info.get('pegRatio'),\n",
    "                         \"Price\": info.get('regularMarketPrice')}\n",
    "            info_df = pd.DataFrame.from_dict(info_dict,\n",
    "                                             orient='index',\n",
    "                                             columns=[\"Details\"])\n",
    "            display(info_df)\n",
    "            ticker_plot(tick)\n",
    "\n",
    "        except (IndexError, AttributeError):\n",
    "            print(\"No information available for {}\".format(str(ticker_dp.value)))\n",
    "\n",
    "def ticker_plot(tick, period=\"1y\", interval=\"1d\"):\n",
    "    hist = tick.history(period=period, interval=interval)['Close']\n",
    "    display(hist.iplot(yTitle=\"Price [{}]\".format(tick.info['currency']),\n",
    "                       kind=\"scatter\"))\n",
    "\n",
    "ticker_dp = widgets.Dropdown(options=holdings_list,\n",
    "                             description=\"Holdings:\",\n",
    "                             disabled=False,\n",
    "                             value=None)\n",
    "ticker_dp.observe(on_ticker_change, names=\"value\")\n",
    "display(ticker_dp)"
   ]
  },
  {
   "cell_type": "markdown",
   "metadata": {},
   "source": [
    "## Portfolio Performance\n",
    "Check out the performance of your stocks"
   ]
  },
  {
   "cell_type": "code",
   "execution_count": 30,
   "metadata": {},
   "outputs": [
    {
     "name": "stdout",
     "output_type": "stream",
     "text": [
      "The last close date value is not for today's!\n"
     ]
    },
    {
     "data": {
      "text/html": [
       "<div>\n",
       "<style scoped>\n",
       "    .dataframe tbody tr th:only-of-type {\n",
       "        vertical-align: middle;\n",
       "    }\n",
       "\n",
       "    .dataframe tbody tr th {\n",
       "        vertical-align: top;\n",
       "    }\n",
       "\n",
       "    .dataframe thead th {\n",
       "        text-align: right;\n",
       "    }\n",
       "</style>\n",
       "<table border=\"1\" class=\"dataframe\">\n",
       "  <thead>\n",
       "    <tr style=\"text-align: right;\">\n",
       "      <th></th>\n",
       "      <th>gain_USD</th>\n",
       "      <th>gain_perc</th>\n",
       "    </tr>\n",
       "  </thead>\n",
       "  <tbody>\n",
       "    <tr>\n",
       "      <th>ATVI</th>\n",
       "      <td>8.88</td>\n",
       "      <td>2.39</td>\n",
       "    </tr>\n",
       "    <tr>\n",
       "      <th>WM</th>\n",
       "      <td>43.23</td>\n",
       "      <td>13.08</td>\n",
       "    </tr>\n",
       "    <tr>\n",
       "      <th>MU</th>\n",
       "      <td>41.50</td>\n",
       "      <td>17.05</td>\n",
       "    </tr>\n",
       "    <tr>\n",
       "      <th>BAM</th>\n",
       "      <td>42.36</td>\n",
       "      <td>18.48</td>\n",
       "    </tr>\n",
       "    <tr>\n",
       "      <th>YUM</th>\n",
       "      <td>12.26</td>\n",
       "      <td>6.29</td>\n",
       "    </tr>\n",
       "    <tr>\n",
       "      <th>HPQ</th>\n",
       "      <td>-1.82</td>\n",
       "      <td>-1.13</td>\n",
       "    </tr>\n",
       "    <tr>\n",
       "      <th>LAZ</th>\n",
       "      <td>-25.58</td>\n",
       "      <td>-23.59</td>\n",
       "    </tr>\n",
       "    <tr>\n",
       "      <th>HUBS</th>\n",
       "      <td>80.68</td>\n",
       "      <td>76.66</td>\n",
       "    </tr>\n",
       "    <tr>\n",
       "      <th>INTC</th>\n",
       "      <td>31.12</td>\n",
       "      <td>31.90</td>\n",
       "    </tr>\n",
       "    <tr>\n",
       "      <th>AMD</th>\n",
       "      <td>280.70</td>\n",
       "      <td>304.25</td>\n",
       "    </tr>\n",
       "    <tr>\n",
       "      <th>FEYE</th>\n",
       "      <td>-3.28</td>\n",
       "      <td>-5.03</td>\n",
       "    </tr>\n",
       "    <tr>\n",
       "      <th>ICHR</th>\n",
       "      <td>10.14</td>\n",
       "      <td>18.16</td>\n",
       "    </tr>\n",
       "    <tr>\n",
       "      <th>GPRO</th>\n",
       "      <td>-3.08</td>\n",
       "      <td>-5.34</td>\n",
       "    </tr>\n",
       "  </tbody>\n",
       "</table>\n",
       "</div>"
      ],
      "text/plain": [
       "      gain_USD  gain_perc\n",
       "ATVI      8.88       2.39\n",
       "WM       43.23      13.08\n",
       "MU       41.50      17.05\n",
       "BAM      42.36      18.48\n",
       "YUM      12.26       6.29\n",
       "HPQ      -1.82      -1.13\n",
       "LAZ     -25.58     -23.59\n",
       "HUBS     80.68      76.66\n",
       "INTC     31.12      31.90\n",
       "AMD     280.70     304.25\n",
       "FEYE     -3.28      -5.03\n",
       "ICHR     10.14      18.16\n",
       "GPRO     -3.08      -5.34"
      ]
     },
     "execution_count": 30,
     "metadata": {},
     "output_type": "execute_result"
    }
   ],
   "source": [
    "#Creating Stocks dataframe\n",
    "df = ar.compile_shares_df(df)\n",
    "stock_df = ar.df_by_type(df, 'Stock')\n",
    "weekend_check = ar.is_weekend()\n",
    "history_df = ar.create_history_summary(stock_df.holding, period='1y', interval='1d')\n",
    "last_close_value = ar.last_close(history_df)\n",
    "combined_df = ar.join_shares_history_df(stock_df, history_df)\n",
    "combined_df = ar.calc_share_gain(combined_df, weekend_check)\n",
    "combined_df[['gain_USD','gain_perc']].head(20)"
   ]
  },
  {
   "cell_type": "code",
   "execution_count": 31,
   "metadata": {},
   "outputs": [],
   "source": [
    "# interact_manual=interact_manual.options(manual_name=\"Run\")\n",
    "# @interact_manual(Holding=df_btn.holdings_list)\n",
    "# def ticker_info(Holding):\n",
    "#     tick = yf.Ticker(Holding)\n",
    "#     info = tick.info\n",
    "#     info_dict = {\"name\": info['shortName'],\n",
    "#                  \"sector\": info['sector'],\n",
    "#                  \"industry\": info['industry'],\n",
    "#                  \"payout_perc\": round(info['payoutRatio'] * 100, 2),\n",
    "#                  \"div_yield_perc\": round(info['dividendYield'] * 100, 2),\n",
    "#                  \"xchange_mkt\": info['exchange'],\n",
    "#                  \"pe_ratio\": info['pegRatio'],\n",
    "#                  \"price_USD\": info['regularMarketPrice']}\n",
    "#     info_df = pd.DataFrame.from_dict(info_dict,\n",
    "#                                      orient='index',\n",
    "#                                      columns=[str(Holding)])\n",
    "#     return info_df"
   ]
  },
  {
   "cell_type": "code",
   "execution_count": 32,
   "metadata": {},
   "outputs": [],
   "source": [
    "# class LoadedButton(widgets.Button):\n",
    "#     \"\"\"A button that can holds a value as a attribute.\"\"\"\n",
    "\n",
    "#     def __init__(self, path=None, file_name=None, df=None, *args, **kwargs):\n",
    "#         super(LoadedButton, self).__init__(*args, **kwargs)\n",
    "#         # Create the value attribute.\n",
    "#         self.path=path\n",
    "#         self.file_name=file_name\n",
    "#         self.add_traits(df=traitlets.Any(df))\n",
    "        \n",
    "# def return_holding_list(ex):\n",
    "#     clear_output()\n",
    "#     display(df_btn)\n",
    "#     ex.df = ar.load_csv(ex.path, ex.file_name)\n",
    "#     ex.holdings_list = ex.df['holding']\n",
    "\n",
    "# df_btn = LoadedButton(description=\"Load CSV\",\n",
    "#                       path=path,\n",
    "#                       file_name=file_name)\n",
    "# df_btn.on_click(return_holding_list)\n",
    "# display(df_btn)"
   ]
  }
 ],
 "metadata": {
  "kernelspec": {
   "display_name": "Python 3",
   "language": "python",
   "name": "python3"
  },
  "language_info": {
   "codemirror_mode": {
    "name": "ipython",
    "version": 3
   },
   "file_extension": ".py",
   "mimetype": "text/x-python",
   "name": "python",
   "nbconvert_exporter": "python",
   "pygments_lexer": "ipython3",
   "version": "3.8.0"
  }
 },
 "nbformat": 4,
 "nbformat_minor": 4
}
